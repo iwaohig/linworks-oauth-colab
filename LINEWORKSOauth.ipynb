{
  "nbformat": 4,
  "nbformat_minor": 0,
  "metadata": {
    "colab": {
      "provenance": [],
      "authorship_tag": "ABX9TyNO3b3tLmx4tLo0Ts4Hv5iD",
      "include_colab_link": true
    },
    "kernelspec": {
      "name": "python3",
      "display_name": "Python 3"
    },
    "language_info": {
      "name": "python"
    }
  },
  "cells": [
    {
      "cell_type": "markdown",
      "metadata": {
        "id": "view-in-github",
        "colab_type": "text"
      },
      "source": [
        "<a href=\"https://colab.research.google.com/github/iwaohig/linworks-oauth-colab/blob/main/LINEWORKSOauth.ipynb\" target=\"_parent\"><img src=\"https://colab.research.google.com/assets/colab-badge.svg\" alt=\"Open In Colab\"/></a>"
      ]
    },
    {
      "cell_type": "code",
      "execution_count": null,
      "metadata": {
        "id": "WrfGKt0fflQw"
      },
      "outputs": [],
      "source": [
        "!pip install selenium\n",
        "!apt-get update # 更新\n",
        "!apt install chromium-chromedriver # ChromeDriverのインストール\n",
        "!cp /usr/lib/chromium-browser/chromedriver /usr/bin # パスへのコピー\n",
        "import sys\n",
        "sys.path.insert(0,'/usr/lib/chromium-browser/chromedriver') # Pythonのパスに追加"
      ]
    },
    {
      "cell_type": "code",
      "source": [
        "CLIENT_ID = '' #@param {type:\"string\"}\n",
        "CLIENT_SECRET = '' #@param {type:\"string\"}\n",
        "REDIRECT_URI = '' #@param {type:\"string\"}\n",
        "SCOPE = '' #@param {type:\"string\"}\n",
        "STATE = '' #@param {type:\"string\"}\n",
        "LOGIN_ID = '' #@param {type:\"string\"}\n",
        "PASSWORD = '' #@param {type:\"string\"}"
      ],
      "metadata": {
        "id": "mNsvXZVHiE_v"
      },
      "execution_count": 9,
      "outputs": []
    },
    {
      "cell_type": "code",
      "source": [
        "from selenium import webdriver\n",
        "from selenium.webdriver.common.by import By\n",
        "from selenium.common.exceptions import NoAlertPresentException\n",
        "import sys\n",
        "import time\n",
        "import requests\n",
        "import urllib.parse\n",
        "\n",
        "# OAuth認証のためのURL構築\n",
        "AUTH_BASE_URL = 'https://auth.worksmobile.com/oauth2/v2.0/authorize'\n",
        "auth_params = {\n",
        "    'client_id': CLIENT_ID,\n",
        "    'redirect_uri': REDIRECT_URI,\n",
        "    'scope': SCOPE,\n",
        "    'response_type': 'code',\n",
        "    'state': STATE\n",
        "}\n",
        "auth_query = urllib.parse.urlencode(auth_params)\n",
        "auth_url = f'{AUTH_BASE_URL}?{auth_query}'\n",
        "\n",
        "# WebDriverの設定\n",
        "chrome_options = webdriver.ChromeOptions()\n",
        "chrome_options.add_argument('--headless')\n",
        "chrome_options.add_argument('--no-sandbox')\n",
        "chrome_options.add_argument('--disable-dev-shm-usage')\n",
        "driver = webdriver.Chrome(options=chrome_options)\n",
        "\n",
        "# LINE WORKSログインページにアクセス\n",
        "driver.get(auth_url)\n",
        "\n",
        "# ユーザーIDとパスワードの入力\n",
        "driver.find_element(By.ID, \"inputId\").send_keys(LOGIN_ID)\n",
        "driver.find_element(By.ID, \"password\").send_keys(PASSWORD)\n",
        "\n",
        "# ログイン処理の実行\n",
        "driver.execute_script(\"login()\")\n",
        "\n",
        "# リダイレクトを待つ\n",
        "time.sleep(5)\n",
        "\n",
        "# アラートが表示されているかを確認\n",
        "try:\n",
        "    alert = driver.switch_to.alert\n",
        "    alert_text = alert.text\n",
        "    alert.accept()\n",
        "    print(f\"Alert detected: {alert_text}\")\n",
        "\n",
        "except NoAlertPresentException:\n",
        "    pass\n",
        "\n",
        "# リダイレクト後のURLからAuthorization Codeを取得\n",
        "auth_code = driver.current_url.split('code=')[1].split('&')[0]\n",
        "\n",
        "# WebDriverを終了\n",
        "driver.quit()\n",
        "\n",
        "# Access Tokenの取得\n",
        "token_url = 'https://auth.worksmobile.com/oauth2/v2.0/token'\n",
        "data = {\n",
        "    'code': auth_code,\n",
        "    'grant_type': 'authorization_code',\n",
        "    'client_id': CLIENT_ID,\n",
        "    'client_secret': CLIENT_SECRET,\n",
        "    'redirect_uri': REDIRECT_URI\n",
        "}\n",
        "headers = {\n",
        "    'Content-Type': 'application/x-www-form-urlencoded'\n",
        "}\n",
        "\n",
        "response = requests.post(token_url, data=data, headers=headers)\n",
        "\n",
        "if response.status_code == 200:\n",
        "    access_token = response.json().get('access_token')\n",
        "    print(\"Access Token:\", access_token)\n",
        "else:\n",
        "    print(\"Error fetching Access Token:\")\n",
        "    print(f\"HTTP Status Code: {response.status_code}\")\n",
        "    print(f\"Response: {response.json()}\")"
      ],
      "metadata": {
        "id": "jc7HOWlKf3Lq"
      },
      "execution_count": null,
      "outputs": []
    }
  ]
}